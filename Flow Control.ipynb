{
 "cells": [
  {
   "cell_type": "code",
   "execution_count": 3,
   "id": "752fb3e8",
   "metadata": {},
   "outputs": [
    {
     "name": "stdout",
     "output_type": "stream",
     "text": [
      "Enter the name of the student:Ash\n",
      "Enter the Marks earned in English: 99\n",
      "Enter the Marks earned in Maths: 88\n",
      "Enter the Marks earned in Science: 85\n",
      "Enter the Marks earned in Hindi: 97\n",
      "Enter the Marks earned in Computer: 86\n",
      "Total marks scored by Ash is: 455\n",
      "Percentage of Ash is: 91.0\n",
      "The Grade is \"A\" \n"
     ]
    }
   ],
   "source": [
    "name = input(\"Enter the name of the student:\")\n",
    "english = int(input(\"Enter the Marks earned in English: \"))\n",
    "maths = int(input(\"Enter the Marks earned in Maths: \"))\n",
    "science = int(input(\"Enter the Marks earned in Science: \"))\n",
    "hindi = int(input(\"Enter the Marks earned in Hindi: \"))\n",
    "comp = int(input(\"Enter the Marks earned in Computer: \"))\n",
    "\n",
    "total_marks = (english+maths+science+hindi+comp)\n",
    "total_percentage = ((english+maths+science+hindi+comp)/500)*100\n",
    "\n",
    "print(\"Total marks scored by\",name, \"is:\",total_marks)\n",
    "print(\"Percentage of\",name, \"is:\",total_percentage)\n",
    "\n",
    "\n",
    "if total_percentage>=90:\n",
    "    print(\"The Grade is \\\"A\\\" \")\n",
    "elif total_percentage>=75:\n",
    "        print(\"The Grade is \\\"B\\\" \")\n",
    "else:\n",
    "        print(\"The Grade is \\\"C\\\" \")\n",
    "\n",
    "\n",
    "\n",
    "\n",
    "\n"
   ]
  },
  {
   "cell_type": "code",
   "execution_count": 5,
   "id": "2bc6f320",
   "metadata": {},
   "outputs": [
    {
     "name": "stdout",
     "output_type": "stream",
     "text": [
      "Enter the Name of Color: black\n",
      "Record NOT found\n"
     ]
    }
   ],
   "source": [
    "colors = [\"Red\",\"Blue\",\"Black\"]\n",
    "item = input(\"Enter the Name of Color: \")\n",
    "\n",
    "if item in colors:\n",
    "    print(\"Record found\")\n",
    "else:\n",
    "    print(\"Record NOT found\")"
   ]
  }
 ],
 "metadata": {
  "kernelspec": {
   "display_name": "Python 3 (ipykernel)",
   "language": "python",
   "name": "python3"
  },
  "language_info": {
   "codemirror_mode": {
    "name": "ipython",
    "version": 3
   },
   "file_extension": ".py",
   "mimetype": "text/x-python",
   "name": "python",
   "nbconvert_exporter": "python",
   "pygments_lexer": "ipython3",
   "version": "3.9.13"
  }
 },
 "nbformat": 4,
 "nbformat_minor": 5
}
