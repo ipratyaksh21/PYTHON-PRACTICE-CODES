{
 "cells": [
  {
   "cell_type": "markdown",
   "id": "51e251ee",
   "metadata": {},
   "source": [
    "## List Exercises "
   ]
  },
  {
   "cell_type": "code",
   "execution_count": 1,
   "id": "6f64349c",
   "metadata": {},
   "outputs": [
    {
     "name": "stdout",
     "output_type": "stream",
     "text": [
      "[1, -99, 11, 23.9, 111, 0]\n"
     ]
    }
   ],
   "source": [
    "numbers = [1,-99,11,23.90,111,0]\n",
    "print(numbers)"
   ]
  },
  {
   "cell_type": "code",
   "execution_count": 3,
   "id": "4e1b4e4b",
   "metadata": {},
   "outputs": [
    {
     "name": "stdout",
     "output_type": "stream",
     "text": [
      "[1, -99, 11, 23.9, 111, 0]\n"
     ]
    }
   ],
   "source": [
    "myNumbers = list((1,-99,11,23.90,111,0))\n",
    "print(myNumbers)"
   ]
  },
  {
   "cell_type": "code",
   "execution_count": 5,
   "id": "4920c55f",
   "metadata": {},
   "outputs": [
    {
     "name": "stdout",
     "output_type": "stream",
     "text": [
      "[1, 'Hii', 23.9, 'Bye', 0]\n"
     ]
    },
    {
     "data": {
      "text/plain": [
       "list"
      ]
     },
     "execution_count": 5,
     "metadata": {},
     "output_type": "execute_result"
    }
   ],
   "source": [
    "myNumbers = list((1,\"Hii\",23.90,\"Bye\",0))\n",
    "print(myNumbers)\n",
    "type(myNumbers)"
   ]
  }
 ],
 "metadata": {
  "kernelspec": {
   "display_name": "Python 3 (ipykernel)",
   "language": "python",
   "name": "python3"
  },
  "language_info": {
   "codemirror_mode": {
    "name": "ipython",
    "version": 3
   },
   "file_extension": ".py",
   "mimetype": "text/x-python",
   "name": "python",
   "nbconvert_exporter": "python",
   "pygments_lexer": "ipython3",
   "version": "3.9.13"
  }
 },
 "nbformat": 4,
 "nbformat_minor": 5
}
