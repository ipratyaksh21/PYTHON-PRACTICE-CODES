{
 "cells": [
  {
   "cell_type": "code",
   "execution_count": 1,
   "id": "e9c704db",
   "metadata": {},
   "outputs": [
    {
     "name": "stdout",
     "output_type": "stream",
     "text": [
      "11.35\n",
      "5\n"
     ]
    }
   ],
   "source": [
    "#using abs() to find Absolute value of a variable\n",
    "\n",
    "x = abs(-11.35)\n",
    "print(x)\n",
    "\n",
    "y = abs(-5)\n",
    "print(y)\n"
   ]
  },
  {
   "cell_type": "code",
   "execution_count": 3,
   "id": "da2fbb8b",
   "metadata": {},
   "outputs": [
    {
     "name": "stdout",
     "output_type": "stream",
     "text": [
      "b'\\x00\\x00\\x00\\x00\\x00\\x00\\x00\\x00\\x00\\x00\\x00\\x00\\x00\\x00\\x00\\x00'\n",
      "b'\\x00\\x00\\x00\\x00\\x00\\x00\\x00\\x00'\n",
      "b'\\x00\\x00\\x00\\x00'\n",
      "b'\\x00\\x00'\n",
      "b'\\x00\\x00\\x00'\n"
     ]
    }
   ],
   "source": [
    "#using bytes() to find bytes of a variable\n",
    "\n",
    "x = bytes(16)\n",
    "print(x)\n",
    "\n",
    "y = bytes(8)\n",
    "print(y)\n",
    "\n",
    "m = bytes(4)\n",
    "print(m)\n",
    "\n",
    "n = bytes(2)\n",
    "print(n)\n",
    "\n",
    "p = bytes(3)\n",
    "print(p)\n",
    "\n"
   ]
  },
  {
   "cell_type": "code",
   "execution_count": 4,
   "id": "76358a40",
   "metadata": {},
   "outputs": [
    {
     "name": "stdout",
     "output_type": "stream",
     "text": [
      "a\n",
      "x\n",
      "o\n",
      "$\n"
     ]
    }
   ],
   "source": [
    "# chr() function takes an integer argument and converts it to character \n",
    "\n",
    "a = chr(97)\n",
    "print(a)\n",
    "\n",
    "b = chr(120)\n",
    "print(b)\n",
    "\n",
    "c = chr(111)\n",
    "print(c)\n",
    "\n",
    "d = chr(36)\n",
    "print(d)\n",
    "\n"
   ]
  },
  {
   "cell_type": "code",
   "execution_count": 5,
   "id": "2baba974",
   "metadata": {},
   "outputs": [
    {
     "name": "stdout",
     "output_type": "stream",
     "text": [
      "109\n",
      "112\n",
      "122\n",
      "61\n",
      "37\n"
     ]
    }
   ],
   "source": [
    "\n",
    "# ord() function takes string argument of a single Unicode character and return its integer Unicode code point value.\n",
    "\n",
    "a = ord('m')\n",
    "print(a)\n",
    "\n",
    "a = ord('p')\n",
    "print(a)\n",
    "\n",
    "a = ord('z')\n",
    "print(a)\n",
    "\n",
    "a = ord('=')\n",
    "print(a)\n",
    "\n",
    "a = ord('%')\n",
    "print(a)\n"
   ]
  },
  {
   "cell_type": "code",
   "execution_count": 6,
   "id": "b90cc0e2",
   "metadata": {},
   "outputs": [
    {
     "name": "stdout",
     "output_type": "stream",
     "text": [
      "(1+11j)\n",
      "(-0.23+54j)\n",
      "(1+0j)\n"
     ]
    }
   ],
   "source": [
    "# using complex() function\n",
    "\n",
    "a = complex(1,11)\n",
    "print(a)\n",
    "\n",
    "a = complex(-0.23,54)\n",
    "print(a)\n",
    "\n",
    "a = complex(1) #without using the imaginary it reutrns 0j\n",
    "print(a)"
   ]
  },
  {
   "cell_type": "code",
   "execution_count": 7,
   "id": "3de3c798",
   "metadata": {},
   "outputs": [
    {
     "name": "stdout",
     "output_type": "stream",
     "text": [
      "2.0\n",
      "-11.0\n",
      "0.0\n"
     ]
    }
   ],
   "source": [
    "# using float() to convert input into floating values, WILL NOT WORK FOR COMPLEX VALUES\n",
    "\n",
    "a = float(2)\n",
    "print(a)\n",
    "\n",
    "a = float(-11)\n",
    "print(a)\n",
    "\n",
    "a = float(0)\n",
    "print(a)"
   ]
  },
  {
   "cell_type": "code",
   "execution_count": 8,
   "id": "d4e74aea",
   "metadata": {},
   "outputs": [
    {
     "name": "stdout",
     "output_type": "stream",
     "text": [
      "3\n",
      "0\n"
     ]
    }
   ],
   "source": [
    "# using int() to convert into integer value\n",
    "\n",
    "a = int(3.222)\n",
    "print(a)\n",
    "\n",
    "a= int(-0.45555)\n",
    "print(a)"
   ]
  },
  {
   "cell_type": "code",
   "execution_count": 9,
   "id": "be5ea351",
   "metadata": {},
   "outputs": [
    {
     "name": "stdout",
     "output_type": "stream",
     "text": [
      "Enter your Name: Ash\n",
      "Good Morning! Ash\n",
      "Enter value to convert to complex value77\n",
      "Complex of 77 is: (77+0j)\n"
     ]
    }
   ],
   "source": [
    "# using input() to get input from user\n",
    "\n",
    "a =  input(\"Enter your Name: \")\n",
    "print(\"Good Morning!\",a)\n",
    "\n",
    "b = int(input(\"Enter value to convert to complex value\"))\n",
    "print(\"Complex of\",b,\"is:\",complex(b))"
   ]
  },
  {
   "cell_type": "code",
   "execution_count": 12,
   "id": "fd957dee",
   "metadata": {},
   "outputs": [
    {
     "name": "stdout",
     "output_type": "stream",
     "text": [
      "0o176\n",
      "0o13\n",
      "0o6\n",
      "0o143\n"
     ]
    }
   ],
   "source": [
    "#using oct()\n",
    "\n",
    "x =oct(126)\n",
    "print(x)\n",
    "\n",
    "x =oct(11)\n",
    "print(x)\n",
    "\n",
    "x =oct(6)\n",
    "print(x)\n",
    "\n",
    "x =oct(99)\n",
    "print(x)\n",
    "\n"
   ]
  },
  {
   "cell_type": "code",
   "execution_count": 13,
   "id": "b3728eb8",
   "metadata": {},
   "outputs": [
    {
     "name": "stdout",
     "output_type": "stream",
     "text": [
      "0xb\n"
     ]
    }
   ],
   "source": [
    "x =hex(11)\n",
    "print(x)\n"
   ]
  },
  {
   "cell_type": "code",
   "execution_count": 14,
   "id": "fa50ce66",
   "metadata": {},
   "outputs": [
    {
     "name": "stdout",
     "output_type": "stream",
     "text": [
      "25\n",
      "121\n"
     ]
    }
   ],
   "source": [
    "# using pow()\n",
    "x = pow(5,2)\n",
    "print(x)\n",
    "\n",
    "x = pow(11,2)\n",
    "print(x)"
   ]
  },
  {
   "cell_type": "code",
   "execution_count": 15,
   "id": "deaf63b6",
   "metadata": {},
   "outputs": [
    {
     "name": "stdout",
     "output_type": "stream",
     "text": [
      "11\n",
      "14\n",
      "17\n",
      "20\n",
      "23\n",
      "26\n",
      "29\n",
      "32\n",
      "35\n",
      "38\n",
      "41\n",
      "44\n",
      "47\n",
      "50\n",
      "53\n",
      "56\n",
      "59\n",
      "62\n",
      "65\n",
      "68\n",
      "71\n",
      "74\n",
      "77\n",
      "80\n",
      "83\n",
      "86\n",
      "89\n",
      "92\n",
      "95\n",
      "98\n"
     ]
    }
   ],
   "source": [
    "#using range()\n",
    "\n",
    "x = range(11,100,3)\n",
    "for i in x:\n",
    "    print(i)"
   ]
  }
 ],
 "metadata": {
  "kernelspec": {
   "display_name": "Python 3 (ipykernel)",
   "language": "python",
   "name": "python3"
  },
  "language_info": {
   "codemirror_mode": {
    "name": "ipython",
    "version": 3
   },
   "file_extension": ".py",
   "mimetype": "text/x-python",
   "name": "python",
   "nbconvert_exporter": "python",
   "pygments_lexer": "ipython3",
   "version": "3.9.13"
  }
 },
 "nbformat": 4,
 "nbformat_minor": 5
}
