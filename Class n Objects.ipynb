{
 "cells": [
  {
   "cell_type": "code",
   "execution_count": 1,
   "id": "429f7efd",
   "metadata": {},
   "outputs": [
    {
     "name": "stdout",
     "output_type": "stream",
     "text": [
      "Range Rover\n"
     ]
    }
   ],
   "source": [
    "class Cars():\n",
    "    a = \"Range Rover\"\n",
    "    \n",
    "c1 =Cars()\n",
    "print(c1.a) "
   ]
  },
  {
   "cell_type": "code",
   "execution_count": 8,
   "id": "17c0cc8a",
   "metadata": {},
   "outputs": [
    {
     "name": "stdout",
     "output_type": "stream",
     "text": [
      "Name is Ash\n"
     ]
    }
   ],
   "source": [
    "class Students:\n",
    "    \n",
    "    def __init__(self,name,grade):\n",
    "        self.name=name\n",
    "        self.grade =grade\n",
    "        \n",
    "s1=Students(\"Ash\",12)\n",
    "s2=Students(\"Happy\",12)\n",
    "    \n",
    "print(\"Name is\",s1.name)"
   ]
  },
  {
   "cell_type": "code",
   "execution_count": 9,
   "id": "3d38a36f",
   "metadata": {},
   "outputs": [
    {
     "name": "stdout",
     "output_type": "stream",
     "text": [
      "Happy is in Class:12\n"
     ]
    }
   ],
   "source": [
    "class Students:\n",
    "    \n",
    "    def __init__(self,name,grade):\n",
    "        self.name=name\n",
    "        self.grade =grade\n",
    "        \n",
    "        \n",
    "    def __str__(self):\n",
    "        return f\"{self.name} is in Class:{self.grade}\"\n",
    "    \n",
    "    \n",
    "        \n",
    "s1=Students(\"Ash\",12)\n",
    "s2=Students(\"Happy\",12)\n",
    "\n",
    "print(s2)"
   ]
  },
  {
   "cell_type": "code",
   "execution_count": 4,
   "id": "af971799",
   "metadata": {},
   "outputs": [
    {
     "name": "stdout",
     "output_type": "stream",
     "text": [
      "Employee Happy who is Hostess is from London\n"
     ]
    }
   ],
   "source": [
    "class Employee:\n",
    "\n",
    "    def __init__(self,name,role,city):\n",
    "        self.name = name\n",
    "        self.role = role\n",
    "        self.city = city\n",
    "     \n",
    "    \n",
    "    def EmpInfo(self):\n",
    "        print(f\"Employee {self.name} who is {self.role} is from {self.city}\")\n",
    "        \n",
    "emp1 = Employee(\"Happy\",\"Hostess\",\"London\")\n",
    "emp1.EmpInfo()\n",
    "    \n",
    "    \n"
   ]
  },
  {
   "cell_type": "code",
   "execution_count": 5,
   "id": "df347e55",
   "metadata": {},
   "outputs": [
    {
     "name": "stdout",
     "output_type": "stream",
     "text": [
      "Happy earns 80000 per year\n"
     ]
    }
   ],
   "source": [
    "class Employee:\n",
    "\n",
    "    def __init__(self,name,role,city):\n",
    "        self.name = name\n",
    "        self.role = role\n",
    "        self.city = city\n",
    "     \n",
    "    \n",
    "    def EmpInfo(self):\n",
    "        print(f\"Employee {self.name} who is {self.role} is from {self.city}\")\n",
    "        \n",
    "        \n",
    "    def salary(self,income):\n",
    "        self.income = income\n",
    "        print(f\"{self.name} earns {self.income} per year\")\n",
    "        \n",
    "        \n",
    "emp1 = Employee(\"Happy\",\"Hostess\",\"London\")\n",
    "emp1.salary(80000)"
   ]
  },
  {
   "cell_type": "code",
   "execution_count": 6,
   "id": "cb81de55",
   "metadata": {},
   "outputs": [],
   "source": [
    "emp1.role = \"HR Administrator\""
   ]
  },
  {
   "cell_type": "code",
   "execution_count": 7,
   "id": "00bc548f",
   "metadata": {},
   "outputs": [
    {
     "name": "stdout",
     "output_type": "stream",
     "text": [
      "Employee Happy who is HR Administrator is from London\n"
     ]
    }
   ],
   "source": [
    "emp1.EmpInfo()"
   ]
  },
  {
   "cell_type": "markdown",
   "id": "afdec619",
   "metadata": {},
   "source": [
    "Child class"
   ]
  },
  {
   "cell_type": "code",
   "execution_count": 9,
   "id": "8fa4922a",
   "metadata": {},
   "outputs": [],
   "source": [
    "class emp(Employee):\n",
    "    pass"
   ]
  },
  {
   "cell_type": "code",
   "execution_count": null,
   "id": "446d9b48",
   "metadata": {},
   "outputs": [],
   "source": [
    "emp1.emp()"
   ]
  }
 ],
 "metadata": {
  "kernelspec": {
   "display_name": "Python 3 (ipykernel)",
   "language": "python",
   "name": "python3"
  },
  "language_info": {
   "codemirror_mode": {
    "name": "ipython",
    "version": 3
   },
   "file_extension": ".py",
   "mimetype": "text/x-python",
   "name": "python",
   "nbconvert_exporter": "python",
   "pygments_lexer": "ipython3",
   "version": "3.9.13"
  }
 },
 "nbformat": 4,
 "nbformat_minor": 5
}
