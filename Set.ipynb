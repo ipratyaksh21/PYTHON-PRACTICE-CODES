{
 "cells": [
  {
   "cell_type": "markdown",
   "id": "e2d05677",
   "metadata": {},
   "source": [
    "# Set Data Type"
   ]
  },
  {
   "cell_type": "markdown",
   "id": "96bd0133",
   "metadata": {},
   "source": [
    "A set is a collection which is unordered, unchangeable*, and unindexed."
   ]
  },
  {
   "cell_type": "code",
   "execution_count": 14,
   "id": "aaac6437",
   "metadata": {},
   "outputs": [
    {
     "name": "stdout",
     "output_type": "stream",
     "text": [
      "{0.44, 1, -11, 'Science'}\n"
     ]
    },
    {
     "data": {
      "text/plain": [
       "set"
      ]
     },
     "execution_count": 14,
     "metadata": {},
     "output_type": "execute_result"
    }
   ],
   "source": [
    "data = {1,-11,0.44,\"Science\"}\n",
    "print(data)\n",
    "type(data)\n",
    "# print(f\"The data type of {list[0]} is {type(list[0])}\")"
   ]
  },
  {
   "cell_type": "code",
   "execution_count": 16,
   "id": "4ecde8e3",
   "metadata": {},
   "outputs": [
    {
     "name": "stdout",
     "output_type": "stream",
     "text": [
      "{'Hello'}\n"
     ]
    },
    {
     "data": {
      "text/plain": [
       "set"
      ]
     },
     "execution_count": 16,
     "metadata": {},
     "output_type": "execute_result"
    }
   ],
   "source": [
    "new = {\"Hello\"}\n",
    "print(new)\n",
    "type(new)"
   ]
  },
  {
   "cell_type": "code",
   "execution_count": 20,
   "id": "ca97d326",
   "metadata": {},
   "outputs": [
    {
     "name": "stdout",
     "output_type": "stream",
     "text": [
      "{'name'}\n"
     ]
    },
    {
     "data": {
      "text/plain": [
       "set"
      ]
     },
     "execution_count": 20,
     "metadata": {},
     "output_type": "execute_result"
    }
   ],
   "source": [
    "new =set({\"name\":\"city\"})\n",
    "print(new)\n",
    "type(new)"
   ]
  },
  {
   "cell_type": "markdown",
   "id": "613fcd55",
   "metadata": {},
   "source": [
    "Duplicate items not allowed."
   ]
  },
  {
   "cell_type": "code",
   "execution_count": 22,
   "id": "749a1519",
   "metadata": {},
   "outputs": [
    {
     "name": "stdout",
     "output_type": "stream",
     "text": [
      "{1, 2, 3, 4, 5, 6, 7, 8, 9, 10}\n"
     ]
    },
    {
     "data": {
      "text/plain": [
       "10"
      ]
     },
     "execution_count": 22,
     "metadata": {},
     "output_type": "execute_result"
    }
   ],
   "source": [
    "newSet = {1,2,3,4,5,6,7,6,8,8,9,1,10}\n",
    "print(newSet)\n",
    "len(newSet)"
   ]
  },
  {
   "cell_type": "code",
   "execution_count": 25,
   "id": "dac555b5",
   "metadata": {},
   "outputs": [
    {
     "name": "stdout",
     "output_type": "stream",
     "text": [
      "{1, 2, 33, 'Hello'}\n"
     ]
    }
   ],
   "source": [
    "newSet = {\"Hello\",1,2,33,33,}\n",
    "print(newSet)"
   ]
  },
  {
   "cell_type": "markdown",
   "id": "6774fecb",
   "metadata": {},
   "source": [
    "Adding an item to set."
   ]
  },
  {
   "cell_type": "code",
   "execution_count": 27,
   "id": "3ff184d4",
   "metadata": {},
   "outputs": [
    {
     "name": "stdout",
     "output_type": "stream",
     "text": [
      "{1, 2, 33, 'Hello', 'India'}\n"
     ]
    }
   ],
   "source": [
    "newSet.add(\"India\")\n",
    "print(newSet)"
   ]
  },
  {
   "cell_type": "markdown",
   "id": "7abb4b25",
   "metadata": {},
   "source": [
    "Adding two sets."
   ]
  },
  {
   "cell_type": "code",
   "execution_count": 28,
   "id": "2ea11664",
   "metadata": {},
   "outputs": [
    {
     "name": "stdout",
     "output_type": "stream",
     "text": [
      "{1, 2, 3, 4, 5, 6, 7, 8, 9, 10}\n"
     ]
    }
   ],
   "source": [
    "a = {1,2,3,4,5}\n",
    "b = {6,7,8,9,10}\n",
    "a.update(b)\n",
    "print(a)"
   ]
  },
  {
   "cell_type": "code",
   "execution_count": 40,
   "id": "a17ad28f",
   "metadata": {},
   "outputs": [
    {
     "name": "stdout",
     "output_type": "stream",
     "text": [
      "{1, 2, 3, 4, 5, 6}\n"
     ]
    }
   ],
   "source": [
    "# union() returs a new set.\n",
    "x ={1,2,3}\n",
    "y = {4,5,6}\n",
    "z =x.union(y)\n",
    "print(z)\n"
   ]
  },
  {
   "cell_type": "markdown",
   "id": "d9d4abcc",
   "metadata": {},
   "source": [
    "Removing an Item from set"
   ]
  },
  {
   "cell_type": "code",
   "execution_count": 31,
   "id": "d70ea3a2",
   "metadata": {},
   "outputs": [
    {
     "name": "stdout",
     "output_type": "stream",
     "text": [
      "{1, 4, 5, 6, 7, 8, 9, 10}\n"
     ]
    }
   ],
   "source": [
    "# Remove() will cause an Error if item doesn't exist.\n",
    "\n",
    "a.remove(3)\n",
    "print(a)"
   ]
  },
  {
   "cell_type": "code",
   "execution_count": 32,
   "id": "4bd46bd9",
   "metadata": {},
   "outputs": [
    {
     "name": "stdout",
     "output_type": "stream",
     "text": [
      "{1, 4, 6, 7, 8, 9, 10}\n"
     ]
    }
   ],
   "source": [
    "# discard()\n",
    "\n",
    "a.discard(5)\n",
    "print(a)"
   ]
  },
  {
   "cell_type": "code",
   "execution_count": 33,
   "id": "05d87d5c",
   "metadata": {},
   "outputs": [
    {
     "name": "stdout",
     "output_type": "stream",
     "text": [
      "set()\n"
     ]
    }
   ],
   "source": [
    "# clear()\n",
    "a.clear()\n",
    "print(a)"
   ]
  },
  {
   "cell_type": "code",
   "execution_count": 39,
   "id": "2e59c8aa",
   "metadata": {},
   "outputs": [
    {
     "ename": "NameError",
     "evalue": "name 'x' is not defined",
     "output_type": "error",
     "traceback": [
      "\u001b[1;31m---------------------------------------------------------------------------\u001b[0m",
      "\u001b[1;31mNameError\u001b[0m                                 Traceback (most recent call last)",
      "\u001b[1;32m~\\AppData\\Local\\Temp\\ipykernel_20724\\903981624.py\u001b[0m in \u001b[0;36m<module>\u001b[1;34m\u001b[0m\n\u001b[0;32m      3\u001b[0m \u001b[0mx\u001b[0m \u001b[1;33m=\u001b[0m\u001b[1;33m{\u001b[0m\u001b[1;36m11\u001b[0m\u001b[1;33m,\u001b[0m\u001b[1;36m12\u001b[0m\u001b[1;33m,\u001b[0m\u001b[1;36m13\u001b[0m\u001b[1;33m}\u001b[0m\u001b[1;33m\u001b[0m\u001b[1;33m\u001b[0m\u001b[0m\n\u001b[0;32m      4\u001b[0m \u001b[1;32mdel\u001b[0m \u001b[0mx\u001b[0m\u001b[1;33m\u001b[0m\u001b[1;33m\u001b[0m\u001b[0m\n\u001b[1;32m----> 5\u001b[1;33m \u001b[0mprint\u001b[0m\u001b[1;33m(\u001b[0m\u001b[0mx\u001b[0m\u001b[1;33m)\u001b[0m\u001b[1;33m\u001b[0m\u001b[1;33m\u001b[0m\u001b[0m\n\u001b[0m\u001b[0;32m      6\u001b[0m \u001b[1;33m\u001b[0m\u001b[0m\n",
      "\u001b[1;31mNameError\u001b[0m: name 'x' is not defined"
     ]
    }
   ],
   "source": [
    "# del keyword to delete a set.\n",
    "\n",
    "x ={11,12,13}\n",
    "del x\n",
    "print(x)\n",
    "\n"
   ]
  },
  {
   "cell_type": "markdown",
   "id": "b6f226bf",
   "metadata": {},
   "source": [
    "Using intersection()"
   ]
  },
  {
   "cell_type": "code",
   "execution_count": 42,
   "id": "15dc27c5",
   "metadata": {},
   "outputs": [
    {
     "name": "stdout",
     "output_type": "stream",
     "text": [
      "{3, 4, 5, 6}\n"
     ]
    }
   ],
   "source": [
    "# The intersection() method will return a new set, that only contains the items that are present in both sets.\n",
    "\n",
    "a = {1,2,3,4,5,6}\n",
    "b = {3,4,5,6,7,8}\n",
    "z = a.intersection(b)\n",
    "\n",
    "print(z)\n"
   ]
  },
  {
   "cell_type": "markdown",
   "id": "2b3f2357",
   "metadata": {},
   "source": [
    "Using intersection_update()"
   ]
  },
  {
   "cell_type": "code",
   "execution_count": 45,
   "id": "7c831dfc",
   "metadata": {},
   "outputs": [
    {
     "name": "stdout",
     "output_type": "stream",
     "text": [
      "{3, 4, 5, 6}\n"
     ]
    }
   ],
   "source": [
    "# The intersection_update() method will keep only the items that are present in both sets.\n",
    "\n",
    "a = {1,2,3,4,5,6}\n",
    "b = {3,4,5,6,7,8}\n",
    "\n",
    "a.intersection_update(b)\n",
    "print(a)"
   ]
  },
  {
   "cell_type": "markdown",
   "id": "04509846",
   "metadata": {},
   "source": [
    "Using symmetric_difference_update()"
   ]
  },
  {
   "cell_type": "code",
   "execution_count": 47,
   "id": "498c6200",
   "metadata": {},
   "outputs": [
    {
     "name": "stdout",
     "output_type": "stream",
     "text": [
      "{3, 4, 5, 6}\n",
      "{7, 8}\n"
     ]
    }
   ],
   "source": [
    "# symmetric_difference_update() method will keep only the elements that are NOT present in both sets.\n",
    "\n",
    "a.symmetric_difference_update(b)\n",
    "print(a)\n",
    "\n",
    "b.symmetric_difference_update(a)\n",
    "print(b)"
   ]
  },
  {
   "cell_type": "code",
   "execution_count": 48,
   "id": "4148c165",
   "metadata": {},
   "outputs": [
    {
     "name": "stdout",
     "output_type": "stream",
     "text": [
      "{1, 2, 3, 4, 5, 6}\n"
     ]
    }
   ],
   "source": [
    "# Return a set that contains the items that only exist in set a, and not in set b.\n",
    "\n",
    "a = {1,2,3,4,5,6}\n",
    "b = {3,4,5,6,7,8}\n",
    "\n",
    "a.difference(b)\n",
    "print(a)"
   ]
  },
  {
   "cell_type": "code",
   "execution_count": null,
   "id": "65722264",
   "metadata": {},
   "outputs": [],
   "source": []
  },
  {
   "cell_type": "code",
   "execution_count": null,
   "id": "be29e753",
   "metadata": {},
   "outputs": [],
   "source": []
  },
  {
   "cell_type": "code",
   "execution_count": null,
   "id": "fed6d0e4",
   "metadata": {},
   "outputs": [],
   "source": []
  }
 ],
 "metadata": {
  "kernelspec": {
   "display_name": "Python 3 (ipykernel)",
   "language": "python",
   "name": "python3"
  },
  "language_info": {
   "codemirror_mode": {
    "name": "ipython",
    "version": 3
   },
   "file_extension": ".py",
   "mimetype": "text/x-python",
   "name": "python",
   "nbconvert_exporter": "python",
   "pygments_lexer": "ipython3",
   "version": "3.9.13"
  }
 },
 "nbformat": 4,
 "nbformat_minor": 5
}
