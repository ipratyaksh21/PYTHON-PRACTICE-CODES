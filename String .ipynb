{
 "cells": [
  {
   "cell_type": "code",
   "execution_count": 1,
   "id": "e6667595",
   "metadata": {},
   "outputs": [
    {
     "name": "stdout",
     "output_type": "stream",
     "text": [
      "I am from India\n"
     ]
    }
   ],
   "source": [
    "x = \"I am from India\"\n",
    "print(x)"
   ]
  },
  {
   "cell_type": "markdown",
   "id": "cdb1fd06",
   "metadata": {},
   "source": [
    "Using For loop with string"
   ]
  },
  {
   "cell_type": "code",
   "execution_count": 2,
   "id": "efe9e15c",
   "metadata": {},
   "outputs": [
    {
     "name": "stdout",
     "output_type": "stream",
     "text": [
      "I\n",
      " \n",
      "a\n",
      "m\n",
      " \n",
      "f\n",
      "r\n",
      "o\n",
      "m\n",
      " \n",
      "I\n",
      "n\n",
      "d\n",
      "i\n",
      "a\n"
     ]
    }
   ],
   "source": [
    "for i in x:\n",
    "    print(i)"
   ]
  },
  {
   "cell_type": "code",
   "execution_count": 3,
   "id": "c6c6c31a",
   "metadata": {},
   "outputs": [
    {
     "name": "stdout",
     "output_type": "stream",
     "text": [
      "t\n"
     ]
    }
   ],
   "source": [
    "x = \"I am a Data Analyst\"\n",
    "print(x[-1])\n"
   ]
  },
  {
   "cell_type": "code",
   "execution_count": 4,
   "id": "8d039974",
   "metadata": {},
   "outputs": [
    {
     "name": "stdout",
     "output_type": "stream",
     "text": [
      "m\n",
      "A\n"
     ]
    }
   ],
   "source": [
    "print(x[3])\n",
    "print(x[-7])"
   ]
  },
  {
   "cell_type": "code",
   "execution_count": 5,
   "id": "a36340fc",
   "metadata": {},
   "outputs": [],
   "source": [
    "quote= \"Life is beautiful. Must be lived wholeheartedly\"\n"
   ]
  },
  {
   "cell_type": "code",
   "execution_count": 6,
   "id": "7d53a7c0",
   "metadata": {},
   "outputs": [
    {
     "name": "stdout",
     "output_type": "stream",
     "text": [
      "True\n"
     ]
    }
   ],
   "source": [
    "if \"beautiful\" in quote:\n",
    "    print(True)"
   ]
  },
  {
   "cell_type": "code",
   "execution_count": 7,
   "id": "674f71c7",
   "metadata": {},
   "outputs": [
    {
     "name": "stdout",
     "output_type": "stream",
     "text": [
      "False\n"
     ]
    }
   ],
   "source": [
    "if \"love\" in quote:\n",
    "    print(True)\n",
    "else:\n",
    "    print(False)"
   ]
  },
  {
   "cell_type": "markdown",
   "id": "6c546e74",
   "metadata": {},
   "source": [
    "Slicing"
   ]
  },
  {
   "cell_type": "code",
   "execution_count": 8,
   "id": "ce4551ad",
   "metadata": {},
   "outputs": [],
   "source": [
    "quote= \"Life is beautiful. Must be lived wholeheartedly\"\n"
   ]
  },
  {
   "cell_type": "code",
   "execution_count": 9,
   "id": "d88b19da",
   "metadata": {},
   "outputs": [
    {
     "name": "stdout",
     "output_type": "stream",
     "text": [
      "Life is beautiful. Must be lived wholeheartedly\n"
     ]
    }
   ],
   "source": [
    "#to print whole text\n",
    "print(quote[:])"
   ]
  },
  {
   "cell_type": "code",
   "execution_count": 10,
   "id": "3cd1cb28",
   "metadata": {},
   "outputs": [
    {
     "name": "stdout",
     "output_type": "stream",
     "text": [
      " bea\n"
     ]
    }
   ],
   "source": [
    " # to print from 7 to 11\n",
    "print(quote[7:11])"
   ]
  },
  {
   "cell_type": "code",
   "execution_count": 11,
   "id": "9222ef31",
   "metadata": {},
   "outputs": [
    {
     "name": "stdout",
     "output_type": "stream",
     "text": [
      "Life is beauti\n"
     ]
    }
   ],
   "source": [
    "#to print start to specific end\n",
    "print(quote[:14])"
   ]
  },
  {
   "cell_type": "code",
   "execution_count": 12,
   "id": "16b87bb1",
   "metadata": {},
   "outputs": [
    {
     "name": "stdout",
     "output_type": "stream",
     "text": [
      " beautiful. Must be lived wholeheartedly\n"
     ]
    }
   ],
   "source": [
    "#to print specific start to end\n",
    "print(quote[7:])"
   ]
  },
  {
   "cell_type": "code",
   "execution_count": 13,
   "id": "bc9b1657",
   "metadata": {},
   "outputs": [
    {
     "name": "stdout",
     "output_type": "stream",
     "text": [
      "ted\n"
     ]
    }
   ],
   "source": [
    "print(quote[-5:-2])"
   ]
  },
  {
   "cell_type": "markdown",
   "id": "623cde98",
   "metadata": {},
   "source": [
    "Modify String"
   ]
  },
  {
   "cell_type": "code",
   "execution_count": 14,
   "id": "fa805410",
   "metadata": {},
   "outputs": [],
   "source": [
    "text = \" Do today what should be done \""
   ]
  },
  {
   "cell_type": "code",
   "execution_count": 15,
   "id": "da033c93",
   "metadata": {},
   "outputs": [
    {
     "name": "stdout",
     "output_type": "stream",
     "text": [
      " Do today what should be done \n"
     ]
    }
   ],
   "source": [
    "print(text)"
   ]
  },
  {
   "cell_type": "code",
   "execution_count": 16,
   "id": "26135cfd",
   "metadata": {},
   "outputs": [
    {
     "data": {
      "text/plain": [
       "' DO TODAY WHAT SHOULD BE DONE '"
      ]
     },
     "execution_count": 16,
     "metadata": {},
     "output_type": "execute_result"
    }
   ],
   "source": [
    "text.upper()"
   ]
  },
  {
   "cell_type": "code",
   "execution_count": 17,
   "id": "57cac4c8",
   "metadata": {},
   "outputs": [
    {
     "data": {
      "text/plain": [
       "' do today what should be done '"
      ]
     },
     "execution_count": 17,
     "metadata": {},
     "output_type": "execute_result"
    }
   ],
   "source": [
    "text.lower()"
   ]
  },
  {
   "cell_type": "code",
   "execution_count": 18,
   "id": "d3f4245e",
   "metadata": {},
   "outputs": [
    {
     "data": {
      "text/plain": [
       "'Do today what should be done'"
      ]
     },
     "execution_count": 18,
     "metadata": {},
     "output_type": "execute_result"
    }
   ],
   "source": [
    "text.strip()"
   ]
  },
  {
   "cell_type": "code",
   "execution_count": 19,
   "id": "f5d77323",
   "metadata": {},
   "outputs": [
    {
     "data": {
      "text/plain": [
       "'Do today what should be done '"
      ]
     },
     "execution_count": 19,
     "metadata": {},
     "output_type": "execute_result"
    }
   ],
   "source": [
    "text.lstrip()"
   ]
  },
  {
   "cell_type": "code",
   "execution_count": 20,
   "id": "af4cada5",
   "metadata": {},
   "outputs": [
    {
     "data": {
      "text/plain": [
       "' Do today what should be done'"
      ]
     },
     "execution_count": 20,
     "metadata": {},
     "output_type": "execute_result"
    }
   ],
   "source": [
    "text.rstrip()"
   ]
  },
  {
   "cell_type": "markdown",
   "id": "10455948",
   "metadata": {},
   "source": [
    "Replace"
   ]
  },
  {
   "cell_type": "code",
   "execution_count": 21,
   "id": "12ef9ac8",
   "metadata": {},
   "outputs": [
    {
     "name": "stdout",
     "output_type": "stream",
     "text": [
      " Believe you can and you're halfway there. \n"
     ]
    }
   ],
   "source": [
    "text = \" Believe you can and you're halfway there. \"\n",
    "print(text)"
   ]
  },
  {
   "cell_type": "code",
   "execution_count": 22,
   "id": "b1d394a7",
   "metadata": {},
   "outputs": [
    {
     "name": "stdout",
     "output_type": "stream",
     "text": [
      " Believe all can and all're halfway there. \n"
     ]
    }
   ],
   "source": [
    "print(text.replace(\"you\",\"all\"))"
   ]
  },
  {
   "cell_type": "code",
   "execution_count": 23,
   "id": "541fc0a3",
   "metadata": {},
   "outputs": [
    {
     "name": "stdout",
     "output_type": "stream",
     "text": [
      " BEliEvE you can and you'rE halfway thErE. \n"
     ]
    }
   ],
   "source": [
    "print(text.replace(\"e\",\"E\"))"
   ]
  },
  {
   "cell_type": "markdown",
   "id": "c4a19782",
   "metadata": {},
   "source": [
    "Split"
   ]
  },
  {
   "cell_type": "code",
   "execution_count": 24,
   "id": "8e31eecf",
   "metadata": {},
   "outputs": [
    {
     "name": "stdout",
     "output_type": "stream",
     "text": [
      " Believe you can and you're halfway there. \n"
     ]
    }
   ],
   "source": [
    "text = \" Believe you can and you're halfway there. \"\n",
    "print(text)"
   ]
  },
  {
   "cell_type": "code",
   "execution_count": 25,
   "id": "1000bf3d",
   "metadata": {},
   "outputs": [
    {
     "name": "stdout",
     "output_type": "stream",
     "text": [
      "['', 'Believe', 'you', 'can', 'and', \"you're\", 'halfway', 'there.', '']\n"
     ]
    }
   ],
   "source": [
    "print(text.split(\" \"))"
   ]
  },
  {
   "cell_type": "code",
   "execution_count": 26,
   "id": "87357515",
   "metadata": {},
   "outputs": [
    {
     "data": {
      "text/plain": [
       "[['', 'Believe', 'you', 'can', 'and', \"you're\", 'halfway', 'there.', '']]"
      ]
     },
     "execution_count": 26,
     "metadata": {},
     "output_type": "execute_result"
    }
   ],
   "source": [
    "myList = []\n",
    "text = \" Believe you can and you're halfway there. \"\n",
    "myList.append(text.split(\" \"))\n",
    "    \n",
    "myList\n",
    "# len(myList)"
   ]
  }
 ],
 "metadata": {
  "kernelspec": {
   "display_name": "Python 3 (ipykernel)",
   "language": "python",
   "name": "python3"
  },
  "language_info": {
   "codemirror_mode": {
    "name": "ipython",
    "version": 3
   },
   "file_extension": ".py",
   "mimetype": "text/x-python",
   "name": "python",
   "nbconvert_exporter": "python",
   "pygments_lexer": "ipython3",
   "version": "3.9.13"
  }
 },
 "nbformat": 4,
 "nbformat_minor": 5
}
