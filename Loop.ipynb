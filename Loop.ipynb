{
 "cells": [
  {
   "cell_type": "code",
   "execution_count": 1,
   "id": "647c3409",
   "metadata": {},
   "outputs": [
    {
     "name": "stdout",
     "output_type": "stream",
     "text": [
      "Enter value for n:2\n",
      "1\n",
      "2\n"
     ]
    }
   ],
   "source": [
    "n = int(input(\"Enter value for n:\"))\n",
    "i=1\n",
    "\n",
    "while i<=n:\n",
    "    print(i)\n",
    "    i+=1"
   ]
  },
  {
   "cell_type": "markdown",
   "id": "620c1178",
   "metadata": {},
   "source": [
    "Write a Multiplication table of a given value."
   ]
  },
  {
   "cell_type": "code",
   "execution_count": 6,
   "id": "74bc0647",
   "metadata": {},
   "outputs": [
    {
     "name": "stdout",
     "output_type": "stream",
     "text": [
      "Enter The Number to get Table: -55\n",
      "Please enter Positive Number\n"
     ]
    }
   ],
   "source": [
    "num = int(input(\"Enter The Number to get Table: \"))\n",
    "\n",
    "i=1\n",
    "\n",
    "while num>=1:\n",
    "    print(\"Table of\",num,\"is as below:\")\n",
    "    print(num*i)\n",
    "    if i == 10:\n",
    "        break\n",
    "    i+=1\n",
    "else:\n",
    "    print(\"Please enter Positive Number\")\n",
    "\n",
    "    \n"
   ]
  },
  {
   "cell_type": "code",
   "execution_count": 14,
   "id": "a3be4035",
   "metadata": {},
   "outputs": [
    {
     "name": "stdout",
     "output_type": "stream",
     "text": [
      "red\n",
      "green\n",
      "blue\n"
     ]
    }
   ],
   "source": [
    "colors =list((\"red\",\"green\",\"blue\"))\n",
    "for i in colors:\n",
    "    print(i)"
   ]
  },
  {
   "cell_type": "markdown",
   "id": "a0ea267e",
   "metadata": {},
   "source": [
    "# For Loop"
   ]
  },
  {
   "cell_type": "code",
   "execution_count": 15,
   "id": "5d5a08f1",
   "metadata": {},
   "outputs": [
    {
     "name": "stdout",
     "output_type": "stream",
     "text": [
      "Enter Country Name:kk\n",
      "Enter City Namekkk\n",
      "\n",
      "Enter Country Name:ll\n",
      "Enter City Namelll\n",
      "\n",
      "Enter Country Name:mm\n",
      "Enter City Namemmmm\n",
      "\n"
     ]
    }
   ],
   "source": [
    "for i in range(3):\n",
    "    contry = input(\"Enter Country Name:\")\n",
    "    city = input(\"Enter City Name\")\n",
    "    print()"
   ]
  },
  {
   "cell_type": "code",
   "execution_count": 16,
   "id": "b0efa59f",
   "metadata": {},
   "outputs": [
    {
     "name": "stdout",
     "output_type": "stream",
     "text": [
      "How Many Entries Required?\n",
      "2\n",
      "Enter Country Name:q\n",
      "Enter City Nameww\n",
      "\n",
      "Enter Country Name:aa\n",
      "Enter City Nameaaa\n",
      "\n"
     ]
    }
   ],
   "source": [
    "x = int(input(\"How Many Entries Required?\\n\"))\n",
    "for i in range(x):\n",
    "    contry = input(\"Enter Country Name:\")\n",
    "    city = input(\"Enter City Name\")\n",
    "    print()"
   ]
  },
  {
   "cell_type": "code",
   "execution_count": 17,
   "id": "bdb26d33",
   "metadata": {},
   "outputs": [],
   "source": [
    "def myAddress(x):\n",
    "#     x = int(input(\"How Many Entries Required?\\n\"))\n",
    "    for i in range(x):\n",
    "        contry = input(\"Enter Country Name:\")\n",
    "        city = input(\"Enter City Name\")\n",
    "        print()"
   ]
  },
  {
   "cell_type": "code",
   "execution_count": 18,
   "id": "6c706271",
   "metadata": {},
   "outputs": [
    {
     "name": "stdout",
     "output_type": "stream",
     "text": [
      "Enter Country Name:india\n",
      "Enter City Nameahm\n",
      "\n",
      "Enter Country Name:uk\n",
      "Enter City Nameldn\n",
      "\n",
      "Enter Country Name:italy\n",
      "Enter City Namerome\n",
      "\n"
     ]
    }
   ],
   "source": [
    "myAddress(3)"
   ]
  },
  {
   "cell_type": "markdown",
   "id": "c0a659ee",
   "metadata": {},
   "source": [
    "Write a Program on Employee Salary"
   ]
  },
  {
   "cell_type": "code",
   "execution_count": null,
   "id": "30bd2971",
   "metadata": {},
   "outputs": [],
   "source": [
    "def empDetails():\n",
    "    empName = input(\"Enter the name of the Employee\")\n",
    "    dept = input(\"Enter the name of the Department\")"
   ]
  },
  {
   "cell_type": "code",
   "execution_count": null,
   "id": "b8788196",
   "metadata": {},
   "outputs": [],
   "source": []
  }
 ],
 "metadata": {
  "kernelspec": {
   "display_name": "Python 3 (ipykernel)",
   "language": "python",
   "name": "python3"
  },
  "language_info": {
   "codemirror_mode": {
    "name": "ipython",
    "version": 3
   },
   "file_extension": ".py",
   "mimetype": "text/x-python",
   "name": "python",
   "nbconvert_exporter": "python",
   "pygments_lexer": "ipython3",
   "version": "3.9.13"
  }
 },
 "nbformat": 4,
 "nbformat_minor": 5
}
