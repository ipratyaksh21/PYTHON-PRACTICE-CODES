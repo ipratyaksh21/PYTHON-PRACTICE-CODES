{
 "cells": [
  {
   "cell_type": "markdown",
   "id": "8a9a9b86",
   "metadata": {},
   "source": [
    "# Tuple Data type"
   ]
  },
  {
   "cell_type": "markdown",
   "id": "fa10e5f6",
   "metadata": {},
   "source": [
    "A tuple is a collection which is ordered and unchangeable.\n",
    "\n",
    "Tuples are written with round brackets."
   ]
  },
  {
   "cell_type": "code",
   "execution_count": 1,
   "id": "8e24bef4",
   "metadata": {},
   "outputs": [
    {
     "name": "stdout",
     "output_type": "stream",
     "text": [
      "('Science', 'Maths', 'English', 'Computer')\n",
      "<class 'tuple'>\n"
     ]
    }
   ],
   "source": [
    "Subjects = tuple((\"Science\",\"Maths\",\"English\",\"Computer\"))    \n",
    "print(Subjects)\n",
    "print(type(Subjects))"
   ]
  },
  {
   "cell_type": "code",
   "execution_count": 2,
   "id": "bf723929",
   "metadata": {},
   "outputs": [
    {
     "name": "stdout",
     "output_type": "stream",
     "text": [
      "('Alpha', 'Beta', 'Gamma')\n"
     ]
    }
   ],
   "source": [
    "Students = (\"Alpha\",\"Beta\",\"Gamma\")\n",
    "print(Students)"
   ]
  },
  {
   "cell_type": "markdown",
   "id": "642d70ae",
   "metadata": {},
   "source": [
    "Tuple containing diff Data Types."
   ]
  },
  {
   "cell_type": "code",
   "execution_count": 3,
   "id": "6d641f3f",
   "metadata": {},
   "outputs": [
    {
     "name": "stdout",
     "output_type": "stream",
     "text": [
      "({'City': 'London'}, 'Love is Life', -0.111, (44+1j), ['red', 'blue,green'], {1, 2, 3}, False)\n",
      "tup_1 contains:{'City': 'London'} and the data type is: <class 'dict'>\n",
      "tup_1 contains:Love is Life and the data type is: <class 'str'>\n",
      "tup_1 contains:-0.111 and the data type is: <class 'float'>\n",
      "tup_1 contains:(44+1j) and the data type is: <class 'complex'>\n",
      "tup_1 contains:['red', 'blue,green'] and the data type is: <class 'list'>\n",
      "tup_1 contains:{1, 2, 3} and the data type is: <class 'set'>\n",
      "tup_1 contains:False and the data type is: <class 'bool'>\n"
     ]
    }
   ],
   "source": [
    "#Tuples can contain different Datatypes.\n",
    "\n",
    "tup_1 = ({\"City\":\"London\"},\"Love is Life\",-0.111,44+1j,[\"red\",\"blue,green\"],{1,2,3},False)\n",
    "print(tup_1)\n",
    "\n",
    "print(f\"tup_1 contains:{tup_1[0]} and the data type is: {type(tup_1[0])}\")\n",
    "print(f\"tup_1 contains:{tup_1[1]} and the data type is: {type(tup_1[1])}\")\n",
    "print(f\"tup_1 contains:{tup_1[2]} and the data type is: {type(tup_1[2])}\")\n",
    "print(f\"tup_1 contains:{tup_1[3]} and the data type is: {type(tup_1[3])}\")\n",
    "print(f\"tup_1 contains:{tup_1[4]} and the data type is: {type(tup_1[4])}\")\n",
    "print(f\"tup_1 contains:{tup_1[5]} and the data type is: {type(tup_1[5])}\")\n",
    "print(f\"tup_1 contains:{tup_1[6]} and the data type is: {type(tup_1[6])}\")"
   ]
  },
  {
   "cell_type": "markdown",
   "id": "102462ed",
   "metadata": {},
   "source": [
    "Changing a tuple Value"
   ]
  },
  {
   "cell_type": "code",
   "execution_count": 7,
   "id": "8401c142",
   "metadata": {},
   "outputs": [
    {
     "name": "stdout",
     "output_type": "stream",
     "text": [
      "[{'City': 'London'}, 'Love is Life', -0.111, (44+1j), ['red', 'blue,green'], {1, 2, 3}, False]\n",
      "<class 'list'>\n"
     ]
    }
   ],
   "source": [
    "# converting to List to update Tuple\n",
    "\n",
    "new = list(tup_1)\n",
    "print(new)\n",
    "print(type(new))"
   ]
  },
  {
   "cell_type": "code",
   "execution_count": 9,
   "id": "4af15959",
   "metadata": {},
   "outputs": [],
   "source": [
    "new.append(123)\n",
    "new.append(-11)"
   ]
  },
  {
   "cell_type": "code",
   "execution_count": 10,
   "id": "b6cc69c0",
   "metadata": {},
   "outputs": [
    {
     "name": "stdout",
     "output_type": "stream",
     "text": [
      "[{'City': 'London'}, 'Love is Life', -0.111, (44+1j), ['red', 'blue,green'], {1, 2, 3}, False, 123, 123, -11]\n"
     ]
    }
   ],
   "source": [
    "print(new)"
   ]
  },
  {
   "cell_type": "code",
   "execution_count": 11,
   "id": "edfc74e0",
   "metadata": {},
   "outputs": [
    {
     "name": "stdout",
     "output_type": "stream",
     "text": [
      "[{'City': 'London'}, 'Love is Life', -0.111, (44+1j), ['red', 'blue,green'], {1, 2, 3}, False, 123, -11]\n"
     ]
    }
   ],
   "source": [
    "new.pop(-2)\n",
    "print(new)"
   ]
  },
  {
   "cell_type": "code",
   "execution_count": 12,
   "id": "b1a11c73",
   "metadata": {},
   "outputs": [
    {
     "name": "stdout",
     "output_type": "stream",
     "text": [
      "({'City': 'London'}, 'Love is Life', -0.111, (44+1j), ['red', 'blue,green'], {1, 2, 3}, False, 123, -11)\n"
     ]
    }
   ],
   "source": [
    "tup_1 =tuple(new)\n",
    "print(tup_1)"
   ]
  },
  {
   "cell_type": "markdown",
   "id": "35e0b9b9",
   "metadata": {},
   "source": [
    "Using zip()"
   ]
  },
  {
   "cell_type": "code",
   "execution_count": 1,
   "id": "9904ef18",
   "metadata": {},
   "outputs": [
    {
     "name": "stdout",
     "output_type": "stream",
     "text": [
      "('Happy', 'Double Masters', 'Grade-A++')\n"
     ]
    }
   ],
   "source": [
    "sName = (\"Happy\",\"Ash\",\"Darsh\")\n",
    "sClass = (\"Double Masters\",\"Masters\",\"Post-Graduate\")\n",
    "sResults = (\"Grade-A++\",\"Grade-A\",\"Pass\")\n",
    "\n",
    "sDetails = zip(sName,sClass,sResults)\n",
    "students =tuple(sDetails)\n",
    "\n",
    "print(students[0])"
   ]
  }
 ],
 "metadata": {
  "kernelspec": {
   "display_name": "Python 3 (ipykernel)",
   "language": "python",
   "name": "python3"
  },
  "language_info": {
   "codemirror_mode": {
    "name": "ipython",
    "version": 3
   },
   "file_extension": ".py",
   "mimetype": "text/x-python",
   "name": "python",
   "nbconvert_exporter": "python",
   "pygments_lexer": "ipython3",
   "version": "3.9.13"
  }
 },
 "nbformat": 4,
 "nbformat_minor": 5
}
