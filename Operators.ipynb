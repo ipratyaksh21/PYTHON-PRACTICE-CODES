{
 "cells": [
  {
   "cell_type": "markdown",
   "id": "88d93584",
   "metadata": {},
   "source": [
    "# Operators in Python"
   ]
  },
  {
   "cell_type": "markdown",
   "id": "6547a27b",
   "metadata": {},
   "source": [
    "### Arithmetic Operators"
   ]
  },
  {
   "cell_type": "code",
   "execution_count": 3,
   "id": "e2555004",
   "metadata": {},
   "outputs": [
    {
     "name": "stdout",
     "output_type": "stream",
     "text": [
      "Enter the Value of a:5\n",
      "Enter the Value of b:4\n",
      "Addition is: of 5 and 4 is: 9\n",
      "Addition is:  5 and 4 is: 1\n",
      "Multiplication is:  5 and 4 is: 20\n",
      "Division is:  5 and 4 is: 1.25\n",
      "Remainder is:  5 and 4 is: 1\n",
      "Exponential is:  5 and 4 is: 625\n",
      "Floor Division is: 5 and 4 is: 1\n"
     ]
    }
   ],
   "source": [
    "a = int(input(\"Enter the Value of a:\"))\n",
    "b = int(input(\"Enter the Value of b:\"))\n",
    "\n",
    "# input() is by-default takes String value. So that, we have use int() before that.\n",
    "\n",
    "print(\"Addition is: of\", a,\"and\",b,\"is:\",a+b) # Addiditon \n",
    "\n",
    "print(\"Subtraction is: \", a,\"and\",b,\"is:\",a-b) # Subtraction \n",
    "\n",
    "print(\"Multiplication is: \", a,\"and\",b,\"is:\",a*b) # Multiplication/Product\n",
    "\n",
    "print(\"Division is: \", a,\"and\",b,\"is:\",a/b) # Division\n",
    "\n",
    "print(\"Remainder is: \", a,\"and\",b,\"is:\",a%b) # Modulus is used to return Remainder.\n",
    "\n",
    "print(\"Exponential is: \", a,\"and\",b,\"is:\",a**b) # Returns the Power of input.\n",
    "\n",
    "print(\"Floor Division is:\", a,\"and\",b,\"is:\",a//b) #the floor division // rounds the result down to the nearest whole number\n"
   ]
  },
  {
   "cell_type": "markdown",
   "id": "c1ba030c",
   "metadata": {},
   "source": [
    "### Assignment Operator"
   ]
  },
  {
   "cell_type": "code",
   "execution_count": null,
   "id": "0f7a10ef",
   "metadata": {},
   "outputs": [],
   "source": [
    "\n"
   ]
  },
  {
   "cell_type": "code",
   "execution_count": null,
   "id": "5314adef",
   "metadata": {},
   "outputs": [],
   "source": []
  },
  {
   "cell_type": "code",
   "execution_count": null,
   "id": "79265631",
   "metadata": {},
   "outputs": [],
   "source": []
  }
 ],
 "metadata": {
  "kernelspec": {
   "display_name": "Python 3 (ipykernel)",
   "language": "python",
   "name": "python3"
  },
  "language_info": {
   "codemirror_mode": {
    "name": "ipython",
    "version": 3
   },
   "file_extension": ".py",
   "mimetype": "text/x-python",
   "name": "python",
   "nbconvert_exporter": "python",
   "pygments_lexer": "ipython3",
   "version": "3.9.13"
  }
 },
 "nbformat": 4,
 "nbformat_minor": 5
}
