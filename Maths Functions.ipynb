{
 "cells": [
  {
   "cell_type": "code",
   "execution_count": 1,
   "id": "6530eb19",
   "metadata": {},
   "outputs": [],
   "source": [
    "import math"
   ]
  },
  {
   "cell_type": "code",
   "execution_count": 2,
   "id": "49653bbc",
   "metadata": {},
   "outputs": [
    {
     "name": "stdout",
     "output_type": "stream",
     "text": [
      "11.045361017187261\n"
     ]
    }
   ],
   "source": [
    "x = math.sqrt(122)\n",
    "print(x)"
   ]
  },
  {
   "cell_type": "markdown",
   "id": "93e26a7d",
   "metadata": {},
   "source": [
    "Find an Area of a circle using math funcions."
   ]
  },
  {
   "cell_type": "code",
   "execution_count": 6,
   "id": "aeaa7d12",
   "metadata": {},
   "outputs": [
    {
     "name": "stdout",
     "output_type": "stream",
     "text": [
      "Enter Radius:5\n",
      "area is 78.53981633974483\n"
     ]
    }
   ],
   "source": [
    "radius = int(input(\"Enter Radius:\"))\n",
    "pi = math.pi\n",
    "area = (pi)*radius**2\n",
    "\n",
    "print(f\"area is {area}\")"
   ]
  },
  {
   "cell_type": "code",
   "execution_count": 9,
   "id": "8b44dac7",
   "metadata": {},
   "outputs": [
    {
     "name": "stdout",
     "output_type": "stream",
     "text": [
      "Area is: 78.53981633974483\n"
     ]
    }
   ],
   "source": [
    "def area_circle(radius):\n",
    "    pi = math.pi\n",
    "    area = pi*radius**2\n",
    "    return area\n",
    "\n",
    "\n",
    "print(\"Area is:\",area_circle(5))"
   ]
  },
  {
   "cell_type": "markdown",
   "id": "dbab34ad",
   "metadata": {},
   "source": [
    "Find Circumference of a Circle."
   ]
  },
  {
   "cell_type": "code",
   "execution_count": 11,
   "id": "77a27f4c",
   "metadata": {},
   "outputs": [
    {
     "name": "stdout",
     "output_type": "stream",
     "text": [
      "Circumference is: 31.41592653589793\n"
     ]
    }
   ],
   "source": [
    "def cir_circle(radius):\n",
    "    pi = math.pi\n",
    "    Circumference = 2*pi*radius\n",
    "    return Circumference\n",
    "\n",
    "\n",
    "print(\"Circumference is:\",cir_circle(5))"
   ]
  },
  {
   "cell_type": "code",
   "execution_count": 15,
   "id": "34b940a6",
   "metadata": {},
   "outputs": [
    {
     "name": "stdout",
     "output_type": "stream",
     "text": [
      "11\n"
     ]
    }
   ],
   "source": [
    "p = 10.01\n",
    "print(math.ceil(p))"
   ]
  },
  {
   "cell_type": "code",
   "execution_count": 16,
   "id": "62085860",
   "metadata": {},
   "outputs": [
    {
     "name": "stdout",
     "output_type": "stream",
     "text": [
      "10\n"
     ]
    }
   ],
   "source": [
    "p = 10.99\n",
    "print(math.floor(p))"
   ]
  },
  {
   "cell_type": "code",
   "execution_count": 18,
   "id": "e03118cb",
   "metadata": {},
   "outputs": [
    {
     "name": "stdout",
     "output_type": "stream",
     "text": [
      "16.0\n"
     ]
    }
   ],
   "source": [
    "print(math.pow(2, 4))"
   ]
  },
  {
   "cell_type": "code",
   "execution_count": 19,
   "id": "e9086871",
   "metadata": {},
   "outputs": [
    {
     "name": "stdout",
     "output_type": "stream",
     "text": [
      "4.0\n"
     ]
    }
   ],
   "source": [
    "print(math.sqrt(16))"
   ]
  },
  {
   "cell_type": "code",
   "execution_count": 20,
   "id": "809fc307",
   "metadata": {},
   "outputs": [
    {
     "name": "stdout",
     "output_type": "stream",
     "text": [
      "2.302585092994046\n",
      "2.095903274289385\n"
     ]
    }
   ],
   "source": [
    "print(math.log(10))\n",
    "print(math.log(10, 3))"
   ]
  },
  {
   "cell_type": "code",
   "execution_count": 39,
   "id": "56c37af6",
   "metadata": {},
   "outputs": [
    {
     "name": "stdout",
     "output_type": "stream",
     "text": [
      "0.0\n",
      "5343237290762.231\n",
      "0.8813735870195429\n"
     ]
    }
   ],
   "source": [
    "print(math.asinh(0))\n",
    "print(math.sinh(30))\n",
    "print(math.asinh(1))"
   ]
  },
  {
   "cell_type": "code",
   "execution_count": 31,
   "id": "d1ff43ed",
   "metadata": {},
   "outputs": [
    {
     "name": "stdout",
     "output_type": "stream",
     "text": [
      "1.5430806348152437\n",
      "5343237290762.231\n",
      "6.102016471589204e+38\n"
     ]
    }
   ],
   "source": [
    "print(math.cosh(0))\n",
    "print(math.cosh(30))\n",
    "print(math.cosh(90))"
   ]
  },
  {
   "cell_type": "code",
   "execution_count": null,
   "id": "058991f4",
   "metadata": {},
   "outputs": [],
   "source": []
  }
 ],
 "metadata": {
  "kernelspec": {
   "display_name": "Python 3 (ipykernel)",
   "language": "python",
   "name": "python3"
  },
  "language_info": {
   "codemirror_mode": {
    "name": "ipython",
    "version": 3
   },
   "file_extension": ".py",
   "mimetype": "text/x-python",
   "name": "python",
   "nbconvert_exporter": "python",
   "pygments_lexer": "ipython3",
   "version": "3.9.13"
  }
 },
 "nbformat": 4,
 "nbformat_minor": 5
}
