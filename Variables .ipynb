{
 "cells": [
  {
   "cell_type": "markdown",
   "id": "e3e1adef",
   "metadata": {},
   "source": [
    "# Python Training"
   ]
  },
  {
   "cell_type": "markdown",
   "id": "ba3d9261",
   "metadata": {},
   "source": [
    "VARIABLES PYTHON"
   ]
  },
  {
   "cell_type": "code",
   "execution_count": 1,
   "id": "eb4c6b2f",
   "metadata": {},
   "outputs": [
    {
     "name": "stdout",
     "output_type": "stream",
     "text": [
      "Type of  a  <class 'int'>\n",
      "Type of b is  <class 'str'>\n",
      "Type of c is  <class 'float'>\n"
     ]
    }
   ],
   "source": [
    "a = 11 \n",
    "b = \"Pratyaksh\"\n",
    "c= -0.11\n",
    "\n",
    "print(\"Type of  a \", type(a))\n",
    "print(\"Type of b is \", type(b))\n",
    "print(\"Type of c is \", type(c))\n"
   ]
  },
  {
   "cell_type": "code",
   "execution_count": 2,
   "id": "847049ca",
   "metadata": {},
   "outputs": [
    {
     "name": "stdout",
     "output_type": "stream",
     "text": [
      "-11.1999 Lamborghini 320\n"
     ]
    }
   ],
   "source": [
    "x,y,z = -11.1999,\"Lamborghini\",320\n",
    "print(x,y,z)"
   ]
  },
  {
   "cell_type": "code",
   "execution_count": 3,
   "id": "e8ad3a74",
   "metadata": {},
   "outputs": [
    {
     "name": "stdout",
     "output_type": "stream",
     "text": [
      "My Name is Pratyaksh\n"
     ]
    }
   ],
   "source": [
    "a = \"My\"\n",
    "b = \"Name is\"\n",
    "c = \"Pratyaksh\"\n",
    "print(a+\" \"+b+\" \"+c)"
   ]
  },
  {
   "cell_type": "code",
   "execution_count": 4,
   "id": "800ace9a",
   "metadata": {},
   "outputs": [
    {
     "name": "stdout",
     "output_type": "stream",
     "text": [
      "I live in London\n"
     ]
    }
   ],
   "source": [
    "#Global Variables\n",
    "\n",
    "city = \"London\"\n",
    "\n",
    "def myCity():\n",
    "    print(\"I live in\", city)\n",
    "\n",
    "myCity()"
   ]
  },
  {
   "cell_type": "code",
   "execution_count": 5,
   "id": "6110f878",
   "metadata": {},
   "outputs": [
    {
     "name": "stdout",
     "output_type": "stream",
     "text": [
      "I live in Paris\n"
     ]
    }
   ],
   "source": [
    "#Global Variables\n",
    "\n",
    "city = \"London\"\n",
    "\n",
    "def myCity():\n",
    "    city = \"Paris\"\n",
    "    print(\"I live in\", city)\n",
    "\n",
    "myCity()\n"
   ]
  },
  {
   "cell_type": "code",
   "execution_count": 6,
   "id": "c3ee01ca",
   "metadata": {},
   "outputs": [
    {
     "name": "stdout",
     "output_type": "stream",
     "text": [
      "I live in Paris\n",
      "I am from London\n"
     ]
    }
   ],
   "source": [
    "#Global Variables\n",
    "\n",
    "city = \"London\"\n",
    "\n",
    "def myCity():\n",
    "    city = \"Paris\"\n",
    "    print(\"I live in\", city)\n",
    "\n",
    "myCity()\n",
    "\n",
    "print(\"I am from\",city)"
   ]
  },
  {
   "cell_type": "code",
   "execution_count": 7,
   "id": "8c4401a3",
   "metadata": {},
   "outputs": [
    {
     "name": "stdout",
     "output_type": "stream",
     "text": [
      "I love  Mac n Cheese\n",
      "I can cook  Mac n Cheese\n"
     ]
    }
   ],
   "source": [
    "def myFood():\n",
    "    global dish\n",
    "    dish = \"Mac n Cheese\"\n",
    "    print(\"I love \",dish)\n",
    "myFood()\n",
    "\n",
    "print(\"I can cook \",dish) # This Print() function will use dish value from myFood(), as dish is Global variable.\n"
   ]
  }
 ],
 "metadata": {
  "kernelspec": {
   "display_name": "Python 3 (ipykernel)",
   "language": "python",
   "name": "python3"
  },
  "language_info": {
   "codemirror_mode": {
    "name": "ipython",
    "version": 3
   },
   "file_extension": ".py",
   "mimetype": "text/x-python",
   "name": "python",
   "nbconvert_exporter": "python",
   "pygments_lexer": "ipython3",
   "version": "3.9.13"
  }
 },
 "nbformat": 4,
 "nbformat_minor": 5
}
