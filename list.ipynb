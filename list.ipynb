{
 "cells": [
  {
   "cell_type": "markdown",
   "id": "7900ec19",
   "metadata": {},
   "source": [
    "# List Data Types"
   ]
  },
  {
   "cell_type": "markdown",
   "id": "dc8de239",
   "metadata": {},
   "source": [
    "Python Lists:\n",
    "\n",
    "Dynamic and mutable arrays for storing ordered collections of items.\n",
    "Allow heterogeneous data types within the same list (e.g., integers, strings, functions).\n",
    "Elements accessed by integer indices, starting from 0.\n",
    "Support operations like adding, removing, and changing elements.\n",
    "Lists can grow or shrink dynamically; no need to specify size in advance.\n",
    "\n",
    "Pros of Lists:\n",
    "\n",
    "Easiest way to store a collection of diverse objects.\n",
    "Simple to modify with operations like append and remove.\n",
    "Useful for creating nested data structures, e.g., lists of lists/dictionaries.\n",
    "\n",
    "Cons of Lists:\n",
    "\n",
    "Slower for arithmetic operations on elements (use NumPy arrays for speed).\n",
    "Use more disk space due to their flexible implementation.\n",
    "\n",
    "Examples:\n",
    "\n",
    "Lists created with square brackets [] or list() constructor.\n",
    "Commonly used for storing related objects, nested data structures, and tables.\n",
    "\n",
    "Python lists are versatile and fundamental for various data manipulation tasks in Python."
   ]
  },
  {
   "cell_type": "markdown",
   "id": "f34ff5a3",
   "metadata": {},
   "source": [
    "Creating a List.\n",
    "List starts with 0 index"
   ]
  },
  {
   "cell_type": "markdown",
   "id": "496e73dd",
   "metadata": {},
   "source": [
    "Creating a List using a constructor."
   ]
  },
  {
   "cell_type": "code",
   "execution_count": 1,
   "id": "bbd3641a",
   "metadata": {},
   "outputs": [
    {
     "name": "stdout",
     "output_type": "stream",
     "text": [
      "['london', 'paris', 'Switzerland', 'Mexico', 'delhi']\n"
     ]
    }
   ],
   "source": [
    "newList =list((\"london\",\"paris\",\"Switzerland\",\"Mexico\",\"delhi\"))\n",
    "print(newList)"
   ]
  },
  {
   "cell_type": "markdown",
   "id": "320f6191",
   "metadata": {},
   "source": [
    "List with different datatypes."
   ]
  },
  {
   "cell_type": "code",
   "execution_count": 2,
   "id": "71016c4b",
   "metadata": {},
   "outputs": [
    {
     "name": "stdout",
     "output_type": "stream",
     "text": [
      "['a', 'b', 'c', 'd']\n",
      "[1, -2, 0.3, 4, -5.11]\n",
      "[True, False]\n",
      "['Pineapple', 11, True, -0.11]\n"
     ]
    }
   ],
   "source": [
    "list_1 = [\"a\",\"b\",\"c\",\"d\"]\n",
    "list_2 = [1,-2,0.3,4,-5.11]\n",
    "list_3 = [True,False]\n",
    "list_4 = [\"Pineapple\",11,True,-0.11]\n",
    "print(list_1)\n",
    "print(list_2)\n",
    "print(list_3)\n",
    "print(list_4)"
   ]
  },
  {
   "cell_type": "markdown",
   "id": "315f9b96",
   "metadata": {},
   "source": [
    "Using append() method to add an element.\n"
   ]
  },
  {
   "cell_type": "code",
   "execution_count": 3,
   "id": "ad5cba5c",
   "metadata": {},
   "outputs": [
    {
     "name": "stdout",
     "output_type": "stream",
     "text": [
      "['Jan', 'Feb', 'Mar', 'Apr']\n"
     ]
    }
   ],
   "source": [
    "monthList_1 =[]\n",
    "\n",
    "monthList_1.append(\"Jan\")\n",
    "monthList_1.append(\"Feb\")\n",
    "monthList_1.append(\"Mar\")\n",
    "monthList_1.append(\"Apr\")\n",
    "\n",
    "print(monthList_1)\n",
    "\n"
   ]
  },
  {
   "cell_type": "markdown",
   "id": "c04e34fe",
   "metadata": {},
   "source": [
    "Using insert() method to insert an element at a specific index."
   ]
  },
  {
   "cell_type": "code",
   "execution_count": 4,
   "id": "751c5095",
   "metadata": {},
   "outputs": [
    {
     "name": "stdout",
     "output_type": "stream",
     "text": [
      "['May', 'Jun', 'Jul', 'Aug', 'Sept', 'Oct', 'Nov', 'Dec']\n"
     ]
    }
   ],
   "source": [
    "monthList_2 =[]\n",
    "\n",
    "monthList_2.insert(0,\"May\")\n",
    "monthList_2.insert(1,\"Jun\")\n",
    "monthList_2.insert(2,\"Jul\")\n",
    "monthList_2.insert(3,\"Aug\")\n",
    "monthList_2.insert(4,\"Sept\")\n",
    "monthList_2.insert(5,\"Oct\")\n",
    "monthList_2.insert(6,\"Nov\")\n",
    "monthList_2.insert(7,\"Dec\")\n",
    "\n",
    "print(monthList_2)\n",
    "\n",
    "\n"
   ]
  },
  {
   "cell_type": "markdown",
   "id": "54666ab1",
   "metadata": {},
   "source": [
    "Using extend() method to extend the list."
   ]
  },
  {
   "cell_type": "code",
   "execution_count": 5,
   "id": "8491d6aa",
   "metadata": {},
   "outputs": [
    {
     "name": "stdout",
     "output_type": "stream",
     "text": [
      "['Jan', 'Feb', 'Mar', 'Apr', 'May', 'Jun', 'Jul', 'Aug', 'Sept', 'Oct', 'Nov', 'Dec']\n"
     ]
    }
   ],
   "source": [
    "# The elements will be added to the end of the list.\n",
    "\n",
    "monthList_1.extend(monthList_2)\n",
    "\n",
    "print(monthList_1)\n"
   ]
  },
  {
   "cell_type": "markdown",
   "id": "44d5e447",
   "metadata": {},
   "source": [
    "Removing elements from a list."
   ]
  },
  {
   "cell_type": "markdown",
   "id": "9ada60ba",
   "metadata": {},
   "source": [
    "Using remove() method."
   ]
  },
  {
   "cell_type": "code",
   "execution_count": 6,
   "id": "8a1f92b5",
   "metadata": {},
   "outputs": [
    {
     "name": "stdout",
     "output_type": "stream",
     "text": [
      "['Jan', 'Feb', 'Mar', 'Apr', 'May', 'Jun', 'Jul', 'Sept', 'Oct', 'Nov', 'Dec']\n"
     ]
    }
   ],
   "source": [
    "monthList_1.remove(\"Aug\")\n",
    "print(monthList_1)"
   ]
  },
  {
   "cell_type": "markdown",
   "id": "30ee9d54",
   "metadata": {},
   "source": [
    "Using pop()method."
   ]
  },
  {
   "cell_type": "code",
   "execution_count": 7,
   "id": "9bf2ee3b",
   "metadata": {},
   "outputs": [
    {
     "data": {
      "text/plain": [
       "'Dec'"
      ]
     },
     "execution_count": 7,
     "metadata": {},
     "output_type": "execute_result"
    }
   ],
   "source": [
    "monthList_1.pop()"
   ]
  },
  {
   "cell_type": "markdown",
   "id": "6537c968",
   "metadata": {},
   "source": [
    "Using pop()  with an index to remove an element from a specific index."
   ]
  },
  {
   "cell_type": "code",
   "execution_count": 8,
   "id": "c0f177c5",
   "metadata": {},
   "outputs": [
    {
     "data": {
      "text/plain": [
       "'Jan'"
      ]
     },
     "execution_count": 8,
     "metadata": {},
     "output_type": "execute_result"
    }
   ],
   "source": [
    "monthList_1.pop(0)"
   ]
  },
  {
   "cell_type": "markdown",
   "id": "fc891825",
   "metadata": {},
   "source": [
    "Using del keyword."
   ]
  },
  {
   "cell_type": "code",
   "execution_count": 9,
   "id": "f3d8ad66",
   "metadata": {},
   "outputs": [
    {
     "name": "stdout",
     "output_type": "stream",
     "text": [
      "['Feb', 'Apr', 'May', 'Jun', 'Jul', 'Sept', 'Oct', 'Nov']\n"
     ]
    }
   ],
   "source": [
    "del monthList_1[1]\n",
    "print(monthList_1)"
   ]
  },
  {
   "cell_type": "markdown",
   "id": "f74bd994",
   "metadata": {},
   "source": [
    "Using clear() method to clear the list."
   ]
  },
  {
   "cell_type": "code",
   "execution_count": 10,
   "id": "42a9f495",
   "metadata": {},
   "outputs": [
    {
     "name": "stdout",
     "output_type": "stream",
     "text": [
      "[]\n"
     ]
    }
   ],
   "source": [
    "monthList_1.clear()\n",
    "\n",
    "print(monthList_1)"
   ]
  },
  {
   "cell_type": "code",
   "execution_count": 11,
   "id": "ca0aed91",
   "metadata": {},
   "outputs": [
    {
     "name": "stdout",
     "output_type": "stream",
     "text": [
      "['Lambo', 'BMW', 'Audi']\n"
     ]
    }
   ],
   "source": [
    "myCars = [\"Lambo\",\"BMW\",\"Audi\"]\n",
    "\n",
    "print(myCars)"
   ]
  },
  {
   "cell_type": "markdown",
   "id": "d9ff770d",
   "metadata": {},
   "source": [
    "To delete the list using del keyword."
   ]
  },
  {
   "cell_type": "code",
   "execution_count": 12,
   "id": "9bf517a3",
   "metadata": {},
   "outputs": [
    {
     "ename": "NameError",
     "evalue": "name 'myCars' is not defined",
     "output_type": "error",
     "traceback": [
      "\u001b[1;31m---------------------------------------------------------------------------\u001b[0m",
      "\u001b[1;31mNameError\u001b[0m                                 Traceback (most recent call last)",
      "\u001b[1;32m~\\AppData\\Local\\Temp\\ipykernel_26924\\1060011483.py\u001b[0m in \u001b[0;36m<module>\u001b[1;34m\u001b[0m\n\u001b[0;32m      1\u001b[0m \u001b[1;32mdel\u001b[0m \u001b[0mmyCars\u001b[0m\u001b[1;33m\u001b[0m\u001b[1;33m\u001b[0m\u001b[0m\n\u001b[1;32m----> 2\u001b[1;33m \u001b[0mprint\u001b[0m\u001b[1;33m(\u001b[0m\u001b[0mmyCars\u001b[0m\u001b[1;33m)\u001b[0m\u001b[1;33m\u001b[0m\u001b[1;33m\u001b[0m\u001b[0m\n\u001b[0m\u001b[0;32m      3\u001b[0m \u001b[1;33m\u001b[0m\u001b[0m\n\u001b[0;32m      4\u001b[0m \u001b[1;31m# This will give an error because myCars list has been deleted.\u001b[0m\u001b[1;33m\u001b[0m\u001b[1;33m\u001b[0m\u001b[0m\n",
      "\u001b[1;31mNameError\u001b[0m: name 'myCars' is not defined"
     ]
    }
   ],
   "source": [
    "del myCars\n",
    "print(myCars) \n",
    "\n",
    "# This will give an error because myCars list has been deleted."
   ]
  },
  {
   "cell_type": "markdown",
   "id": "6bca0a90",
   "metadata": {},
   "source": [
    "Accessing Elements in a list."
   ]
  },
  {
   "cell_type": "code",
   "execution_count": 14,
   "id": "39ecc626",
   "metadata": {},
   "outputs": [
    {
     "name": "stdout",
     "output_type": "stream",
     "text": [
      "['Python', 'Swift', 'C++', 'C', 'Java', 'Rust', 'R']\n"
     ]
    }
   ],
   "source": [
    "languages = ['Python', 'Swift', 'C++', 'C', 'Java', 'Rust', 'R']\n",
    "print(languages)"
   ]
  },
  {
   "cell_type": "code",
   "execution_count": 15,
   "id": "0525f7f9",
   "metadata": {},
   "outputs": [
    {
     "name": "stdout",
     "output_type": "stream",
     "text": [
      "['Python', 'Swift', 'C++', 'C', 'Java', 'Rust', 'R']\n"
     ]
    }
   ],
   "source": [
    "# Accessing all items.\n",
    "print(languages[:])"
   ]
  },
  {
   "cell_type": "code",
   "execution_count": 16,
   "id": "a3370446",
   "metadata": {},
   "outputs": [
    {
     "name": "stdout",
     "output_type": "stream",
     "text": [
      "['C++', 'C', 'Java', 'Rust', 'R']\n"
     ]
    }
   ],
   "source": [
    "# Accessing with specific index and rest all the items.\n",
    "print(languages[2:])"
   ]
  },
  {
   "cell_type": "code",
   "execution_count": 17,
   "id": "92427308",
   "metadata": {},
   "outputs": [
    {
     "name": "stdout",
     "output_type": "stream",
     "text": [
      "Java\n"
     ]
    }
   ],
   "source": [
    "# Accessing with specific index.\n",
    "print(languages[4])"
   ]
  },
  {
   "cell_type": "code",
   "execution_count": 18,
   "id": "8499fc6e",
   "metadata": {},
   "outputs": [
    {
     "name": "stdout",
     "output_type": "stream",
     "text": [
      "R\n"
     ]
    }
   ],
   "source": [
    "# Accessing last item.\n",
    "print(languages[-1])"
   ]
  },
  {
   "cell_type": "code",
   "execution_count": 19,
   "id": "f9ffb7f1",
   "metadata": {},
   "outputs": [
    {
     "name": "stdout",
     "output_type": "stream",
     "text": [
      "['Java', 'Rust']\n"
     ]
    }
   ],
   "source": [
    "# Accessing reverse items\n",
    "print(languages[-3:-1])"
   ]
  },
  {
   "cell_type": "markdown",
   "id": "a115f7e8",
   "metadata": {},
   "source": [
    "Using for loop to return items in a list"
   ]
  },
  {
   "cell_type": "code",
   "execution_count": 20,
   "id": "ffe181b5",
   "metadata": {},
   "outputs": [
    {
     "name": "stdout",
     "output_type": "stream",
     "text": [
      "Python\n",
      "Swift\n",
      "C++\n",
      "C\n",
      "Java\n",
      "Rust\n",
      "R\n"
     ]
    }
   ],
   "source": [
    "for i in languages:\n",
    "    print(i)"
   ]
  },
  {
   "cell_type": "code",
   "execution_count": 21,
   "id": "842c4ea2",
   "metadata": {},
   "outputs": [
    {
     "name": "stdout",
     "output_type": "stream",
     "text": [
      "Python\n",
      "Swift\n",
      "C++\n",
      "C\n",
      "Java\n",
      "Rust\n",
      "R\n"
     ]
    }
   ],
   "source": [
    "#using range function\n",
    "\n",
    "for i in range(len(languages)):\n",
    "    print(languages[i])"
   ]
  },
  {
   "cell_type": "code",
   "execution_count": 22,
   "id": "94950391",
   "metadata": {},
   "outputs": [
    {
     "name": "stdout",
     "output_type": "stream",
     "text": [
      "Python\n",
      "Swift\n",
      "C++\n",
      "C\n",
      "Java\n",
      "Rust\n",
      "R\n"
     ]
    }
   ],
   "source": [
    "#using while loop\n",
    "\n",
    "i=0\n",
    "while i<len(languages):\n",
    "    print(languages[i])\n",
    "    i+=1\n",
    "\n"
   ]
  },
  {
   "cell_type": "markdown",
   "id": "acd20690",
   "metadata": {},
   "source": [
    "Using comprehension"
   ]
  },
  {
   "cell_type": "code",
   "execution_count": 23,
   "id": "8c3a5394",
   "metadata": {},
   "outputs": [
    {
     "name": "stdout",
     "output_type": "stream",
     "text": [
      "Python\n",
      "Swift\n",
      "C++\n",
      "C\n",
      "Java\n",
      "Rust\n",
      "R\n"
     ]
    },
    {
     "data": {
      "text/plain": [
       "[None, None, None, None, None, None, None]"
      ]
     },
     "execution_count": 23,
     "metadata": {},
     "output_type": "execute_result"
    }
   ],
   "source": [
    "[print(i) for i in languages ]"
   ]
  },
  {
   "cell_type": "markdown",
   "id": "2ac80a72",
   "metadata": {},
   "source": [
    "To check for a specific item in a list"
   ]
  },
  {
   "cell_type": "code",
   "execution_count": 24,
   "id": "d7573762",
   "metadata": {},
   "outputs": [
    {
     "name": "stdout",
     "output_type": "stream",
     "text": [
      "Yes\n"
     ]
    }
   ],
   "source": [
    "if \"Python\" in languages:\n",
    "    print(\"Yes\")\n",
    "else:\n",
    "    print(\"No\")"
   ]
  },
  {
   "cell_type": "markdown",
   "id": "468cdc12",
   "metadata": {},
   "source": [
    "Sorting a List."
   ]
  },
  {
   "cell_type": "code",
   "execution_count": 25,
   "id": "4c22a2ff",
   "metadata": {},
   "outputs": [
    {
     "name": "stdout",
     "output_type": "stream",
     "text": [
      "['Python', 'Swift', 'C++', 'C', 'Java', 'Rust', 'R']\n"
     ]
    }
   ],
   "source": [
    "languages = ['Python', 'Swift', 'C++', 'C', 'Java', 'Rust', 'R']\n",
    "print(languages)"
   ]
  },
  {
   "cell_type": "code",
   "execution_count": 26,
   "id": "bb42e2eb",
   "metadata": {},
   "outputs": [
    {
     "name": "stdout",
     "output_type": "stream",
     "text": [
      "['C', 'C++', 'Java', 'Python', 'R', 'Rust', 'Swift']\n"
     ]
    }
   ],
   "source": [
    "languages.sort()\n",
    "print(languages)"
   ]
  },
  {
   "cell_type": "code",
   "execution_count": 27,
   "id": "abf2d9ca",
   "metadata": {},
   "outputs": [
    {
     "name": "stdout",
     "output_type": "stream",
     "text": [
      "['Swift', 'Rust', 'R', 'Python', 'Java', 'C++', 'C']\n"
     ]
    }
   ],
   "source": [
    "#Reverse Sorting\n",
    "\n",
    "languages.sort(reverse=True)\n",
    "print(languages)"
   ]
  },
  {
   "cell_type": "markdown",
   "id": "fdc7f2fb",
   "metadata": {},
   "source": [
    "Copy a List."
   ]
  },
  {
   "cell_type": "code",
   "execution_count": 29,
   "id": "af6eb53d",
   "metadata": {},
   "outputs": [
    {
     "name": "stdout",
     "output_type": "stream",
     "text": [
      "['Python', 'Swift', 'C++', 'C', 'Java', 'Rust', 'R']\n"
     ]
    }
   ],
   "source": [
    "#Using copy()\n",
    "\n",
    "languages = ['Python', 'Swift', 'C++', 'C', 'Java', 'Rust', 'R']\n",
    "newList = languages.copy()\n",
    "print(newList)"
   ]
  },
  {
   "cell_type": "markdown",
   "id": "de6e8c62",
   "metadata": {},
   "source": [
    "Joining Lists using different methods."
   ]
  },
  {
   "cell_type": "code",
   "execution_count": 30,
   "id": "419339f2",
   "metadata": {},
   "outputs": [
    {
     "name": "stdout",
     "output_type": "stream",
     "text": [
      "['London', 'Paris', 'Rome', 'Anand', 'Nadiad', 'Delhi']\n"
     ]
    }
   ],
   "source": [
    "City_1 = list((\"London\",\"Paris\",\"Rome\"))\n",
    "City_2 = list((\"Anand\",\"Nadiad\",\"Delhi\"))\n",
    "\n",
    "City_all = City_1 + City_2\n",
    "print(City_all)"
   ]
  },
  {
   "cell_type": "code",
   "execution_count": 32,
   "id": "e9c158cc",
   "metadata": {},
   "outputs": [
    {
     "name": "stdout",
     "output_type": "stream",
     "text": [
      "['London', 'Paris', 'Rome', 'Anand', 'Nadiad', 'Delhi']\n"
     ]
    }
   ],
   "source": [
    "City_1 = list((\"London\",\"Paris\",\"Rome\"))\n",
    "City_2 = list((\"Anand\",\"Nadiad\",\"Delhi\"))\n",
    "\n",
    "for i in City_2:\n",
    "    City_1.append(i)\n",
    "print(City_1)"
   ]
  },
  {
   "cell_type": "markdown",
   "id": "cc33ee95",
   "metadata": {},
   "source": [
    "## List Methods Must Know:"
   ]
  },
  {
   "cell_type": "markdown",
   "id": "94095605",
   "metadata": {},
   "source": [
    "list()\n",
    "append()\n",
    "insert()\n",
    "remove()\n",
    "clear()\n",
    "pop()\n",
    "sort()\n",
    "copy()\n",
    "extend()\n",
    "reverse()\n"
   ]
  }
 ],
 "metadata": {
  "kernelspec": {
   "display_name": "Python 3 (ipykernel)",
   "language": "python",
   "name": "python3"
  },
  "language_info": {
   "codemirror_mode": {
    "name": "ipython",
    "version": 3
   },
   "file_extension": ".py",
   "mimetype": "text/x-python",
   "name": "python",
   "nbconvert_exporter": "python",
   "pygments_lexer": "ipython3",
   "version": "3.9.13"
  }
 },
 "nbformat": 4,
 "nbformat_minor": 5
}
